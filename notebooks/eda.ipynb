{
 "cells": [
  {
   "cell_type": "code",
   "execution_count": null,
   "id": "123f3406",
   "metadata": {},
   "outputs": [],
   "source": [
    "# notebooks/eda.ipynb\n",
    "\n",
    "import pandas as pd\n",
    "import matplotlib.pyplot as plt\n",
    "import seaborn as sns\n",
    "import nltk\n",
    "import re\n",
    "from tqdm import tqdm\n",
    "import os\n",
    "\n",
    "tqdm.pandas()\n",
    "nltk.download('punkt')\n",
    "nltk.download('stopwords')"
   ]
  },
  {
   "cell_type": "code",
   "execution_count": null,
   "id": "33be5f68",
   "metadata": {},
   "outputs": [],
   "source": [
    "# Download NLTK data\n",
    "nltk.download('punkt')\n",
    "nltk.download('stopwords')"
   ]
  },
  {
   "cell_type": "code",
   "execution_count": null,
   "id": "5406f64d",
   "metadata": {},
   "outputs": [],
   "source": [
    "# === File Paths ===\n",
    "raw_path = '/content/drive/MyDrive/credit-complaint-chatbot/data/raw/complaints.csv'\n",
    "filtered_path = '/content/drive/MyDrive/credit-complaint-chatbot/data/processed/filtered/filtered_complaints.csv'\n",
    "figures_dir = '/content/drive/MyDrive/credit-complaint-chatbot/reports/figures/'"
   ]
  },
  {
   "cell_type": "code",
   "execution_count": null,
   "id": "85508d51",
   "metadata": {},
   "outputs": [],
   "source": [
    "# === Product Remapping ===\n",
    "product_remap = {\n",
    "    \"Credit card\": \"Credit card\",\n",
    "    \"Credit card or prepaid card\": \"Credit card\",\n",
    "    \"Consumer Loan\": \"Personal loan\",\n",
    "    \"Payday loan, title loan, personal loan, or advance loan\": \"Personal loan\",\n",
    "    \"Payday loan, title loan, or personal loan\": \"Personal loan\",\n",
    "    \"Checking or savings account\": \"Savings account\",\n",
    "    \"Bank account or service\": \"Savings account\",\n",
    "    \"Money transfer, virtual currency, or money service\": \"Money transfers\",\n",
    "    \"Money transfers\": \"Money transfers\",\n",
    "    \"Other financial service\": \"Buy Now, Pay Later\"\n",
    "}\n",
    "\n",
    "target_products = [\n",
    "    'Credit card',\n",
    "    'Personal loan',\n",
    "    'Buy Now, Pay Later',\n",
    "    'Savings account',\n",
    "    'Money transfers'\n",
    "]"
   ]
  },
  {
   "cell_type": "code",
   "execution_count": null,
   "id": "03d181db",
   "metadata": {},
   "outputs": [],
   "source": [
    "# === Ensure Directories Exist ===\n",
    "def setup_directories():\n",
    "    os.makedirs(os.path.dirname(filtered_path), exist_ok=True)\n",
    "    os.makedirs(figures_dir, exist_ok=True)"
   ]
  },
  {
   "cell_type": "code",
   "execution_count": null,
   "id": "40aed46c",
   "metadata": {},
   "outputs": [],
   "source": [
    "# === Text Cleaning Function ===\n",
    "def clean_text(text):\n",
    "    text = text.lower()\n",
    "    text = re.sub(r'[^a-z0-9\\s]', '', text)\n",
    "    text = re.sub(r'\\s+', ' ', text).strip()\n",
    "    return text"
   ]
  },
  {
   "cell_type": "code",
   "execution_count": null,
   "id": "c2755f43",
   "metadata": {},
   "outputs": [],
   "source": [
    "# === Process Data in Chunks ===\n",
    "def process_chunks(path, chunksize=10000):\n",
    "    df_chunks = pd.read_csv(path, chunksize=chunksize, low_memory=False)\n",
    "\n",
    "    product_counts = []\n",
    "    narrative_lengths = []\n",
    "    filtered_data = []\n",
    "\n",
    "    for chunk in tqdm(df_chunks, desc=\"Processing chunks\"):\n",
    "        # Normalize product names\n",
    "        chunk['Product'] = chunk['Product'].replace(product_remap)\n",
    "\n",
    "        # Filter for target products\n",
    "        chunk = chunk[chunk['Product'].isin(target_products)]\n",
    "\n",
    "        # Remove empty narratives\n",
    "        chunk = chunk[chunk['Consumer complaint narrative'].notna() & (chunk['Consumer complaint narrative'] != '')]\n",
    "\n",
    "        # Clean text\n",
    "        chunk['cleaned_narrative'] = chunk['Consumer complaint narrative'].progress_apply(clean_text)\n",
    "\n",
    "        # Ensure cleaned_narrative is string and remove empty\n",
    "        chunk = chunk[chunk['cleaned_narrative'].astype(str).str.strip().astype(bool)]\n",
    "\n",
    "\n",
    "        # Collect data\n",
    "        product_counts.append(chunk['Product'].value_counts())\n",
    "        narrative_lengths.extend(chunk['cleaned_narrative'].apply(lambda x: len(x.split())))\n",
    "        filtered_data.append(chunk)\n",
    "\n",
    "    # Combine\n",
    "    df_filtered = pd.concat(filtered_data, ignore_index=True)\n",
    "    product_summary = pd.concat(product_counts, axis=0).groupby(level=0).sum()\n",
    "\n",
    "    return df_filtered, product_summary, narrative_lengths"
   ]
  },
  {
   "cell_type": "code",
   "execution_count": null,
   "id": "0bb5b060",
   "metadata": {},
   "outputs": [],
   "source": [
    "# === Plot and Save EDA Charts ===\n",
    "def save_plots(product_counts, narrative_lengths):\n",
    "    plt.figure(figsize=(10, 6))\n",
    "    sns.barplot(x=product_counts.values, y=product_counts.index)\n",
    "    plt.title('Complaint Distribution by Product')\n",
    "    plt.xlabel('Number of Complaints')\n",
    "    plt.ylabel('Product')\n",
    "    plt.savefig(os.path.join(figures_dir, 'product_distribution.png'))\n",
    "    plt.close()\n",
    "\n",
    "    plt.figure(figsize=(10, 6))\n",
    "    sns.histplot(narrative_lengths, bins=50)\n",
    "    plt.title('Distribution of Narrative Lengths (Words)')\n",
    "    plt.xlabel('Word Count')\n",
    "    plt.ylabel('Frequency')\n",
    "    plt.savefig(os.path.join(figures_dir, 'narrative_length_distribution.png'))\n",
    "    plt.close()"
   ]
  },
  {
   "cell_type": "code",
   "execution_count": null,
   "id": "707a3e75",
   "metadata": {},
   "outputs": [],
   "source": [
    "#=== Main Pipeline ===\n",
    "def main():\n",
    "    print(\" Setting up folders...\")\n",
    "    setup_directories()\n",
    "    \n",
    "    print(chunk['cleaned_narrative'].map(type).value_counts())\n",
    "\n",
    "    print(\" Processing data...\")\n",
    "    df_filtered, product_counts, narrative_lengths = process_chunks(raw_path)\n",
    "\n",
    "    print(f\" Saving cleaned dataset to {filtered_path} ...\")\n",
    "    df_filtered.to_csv(filtered_path, index=False, compression='gzip')\n",
    "\n",
    "    print(\" Saving EDA plots...\")\n",
    "    save_plots(product_counts, narrative_lengths)\n",
    "\n",
    "    # Summary\n",
    "    print(\"\\n Summary Stats for Interim Report:\")\n",
    "    print(f\"Total complaints after filtering: {len(df_filtered):,}\")\n",
    "    print(f\"Average narrative length: {sum(narrative_lengths) / len(narrative_lengths):.2f} words\")\n",
    "    print(\"Product distribution:\")\n",
    "    print(product_counts)\n",
    "\n",
    "# === Run ===\n",
    "main()"
   ]
  }
 ],
 "metadata": {
  "kernelspec": {
   "display_name": ".venv",
   "language": "python",
   "name": "python3"
  },
  "language_info": {
   "name": "python",
   "version": "3.10.11"
  }
 },
 "nbformat": 4,
 "nbformat_minor": 5
}
